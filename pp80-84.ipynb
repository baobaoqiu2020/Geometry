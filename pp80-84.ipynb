{
 "cells": [
  {
   "cell_type": "markdown",
   "metadata": {},
   "source": [
    "<h1 align=\"center\">Solutions and Hints<h1>"
   ]
  },
  {
   "cell_type": "markdown",
   "metadata": {},
   "source": [
    "### Exercises 1"
   ]
  },
  {
   "cell_type": "markdown",
   "metadata": {},
   "source": [
    "1. Produce $AE$ to $F$, make $EF = EA$, prove that $\\triangle ACD \\cong \\triangle AFD$."
   ]
  },
  {
   "cell_type": "markdown",
   "metadata": {},
   "source": [
    "2. Prove that the sum of the lengths of any two sides of a triangle is greater than the twice of the length of the third side's median."
   ]
  },
  {
   "cell_type": "markdown",
   "metadata": {},
   "source": [
    "3. Let $C^\\prime$ be the symmetry point of $C$ at $BA$ produced with regard to $AP$, join $PC^\\prime$, prove that $PB + PC^\\prime > BC^\\prime$."
   ]
  },
  {
   "cell_type": "markdown",
   "metadata": {},
   "source": [
    "4. Draw altitude $CD$ to $AB$, prove that $\\angle DCE = \\angle MCE$."
   ]
  },
  {
   "cell_type": "markdown",
   "metadata": {},
   "source": [
    "5. Draw altitude $AD$ to $BC$, prove it with the Pythagorean Theorem."
   ]
  },
  {
   "cell_type": "markdown",
   "metadata": {},
   "source": [
    "6. Translate the segment between two opposite sides and map one endpoint to a vertex of the rectangle, then prove it with the Angle-side Inequalities Relationship in triangles. "
   ]
  },
  {
   "cell_type": "markdown",
   "metadata": {},
   "source": [
    "7. Through $C$ draw $CM \\| EA$ to meet $AB$ in $M$, prove that $CM$ is the perpendicular bisector of $BF$."
   ]
  },
  {
   "cell_type": "markdown",
   "metadata": {},
   "source": [
    "8. Join $AD$, prove it with the Mean Proportional Theorems in right triangles."
   ]
  },
  {
   "cell_type": "markdown",
   "metadata": {},
   "source": [
    "9. Let $ABC$ be the triangle, $H$ be its orthocenter, and $F$ be the symmetry point of $H$ with regard to $AC$, prove that $\\angle AFB = \\angle ACB$."
   ]
  },
  {
   "cell_type": "markdown",
   "metadata": {},
   "source": [
    "10. Join $PA$, $MA$, prove that $\\angle BPA = \\angle TPA = \\angle BAP$."
   ]
  },
  {
   "cell_type": "markdown",
   "metadata": {},
   "source": [
    "11. Join $PB$, $PQ$, prove that $QH \\| BP$; or join $AQ$, $BQ$, prove that $\\angle HQA + \\angle HAQ = 90 ^\\circ$."
   ]
  },
  {
   "cell_type": "markdown",
   "metadata": {},
   "source": [
    "12. Draw the common tangent."
   ]
  },
  {
   "cell_type": "markdown",
   "metadata": {},
   "source": [
    "13. Draw the common tangent $PQ$ to meet $AD$ in $Q$, prove that $\\angle A + \\angle D = \\angle BPC$."
   ]
  },
  {
   "cell_type": "markdown",
   "metadata": {},
   "source": [
    "14. Draw the common chord $AB$, join $BC$, $BD$, prove that $\\angle CBD + \\angle P = 180 ^\\circ$."
   ]
  },
  {
   "cell_type": "markdown",
   "metadata": {},
   "source": [
    "15. Join $DE, DF$, since $\\triangle BDF \\sim \\triangle ABC$, we have $\\frac{BC}{AC} = \\frac{BF}{DF}$; since $\\triangle ABC \\sim \\triangle CDF$, we have $\\frac{BC}{AC} = \\frac{DF}{CF}$; \n",
    "since $\\triangle ABC \\sim \\triangle ADE$, we have $\\frac{BC}{AC} = \\frac{DE}{AE} = \\frac{CF}{AE}$. Multiply three equations to $ \\frac{BC^3}{AC^3} = \\frac{BF}{AE}$ ."
   ]
  },
  {
   "cell_type": "markdown",
   "metadata": {},
   "source": [
    "16. Produce $BD$ to meet $AC$ in $E$."
   ]
  },
  {
   "cell_type": "markdown",
   "metadata": {},
   "source": [
    "17. Draw $FH \\perp BC$ to meet $BC$ in $H$, prove that $AE = AF = FH$ and $\\triangle AEG \\cong \\triangle FHC$."
   ]
  },
  {
   "cell_type": "markdown",
   "metadata": {},
   "source": [
    "18. Produce $FH$ to meet $AC$ produced in $G$, draw $CK \\| AB$ to meet $FG$ in $K$, prove that $\\triangle BFM \\cong \\triangle CKM$."
   ]
  },
  {
   "cell_type": "markdown",
   "metadata": {},
   "source": [
    "19. Produce $AF$ to meet $BC$ produced in $E$. Prove that $\\triangle ADF \\cong \\triangle ECF$ and $\\triangle BAE$ to be an isosceles. Then prove that $BF, AF$ are bisectors."
   ]
  },
  {
   "cell_type": "markdown",
   "metadata": {},
   "source": [
    "20. Draw an isosceles triangle and let $\\angle B$ be equal to the exterior of its apex. There are multiple proof methods."
   ]
  },
  {
   "cell_type": "markdown",
   "metadata": {},
   "source": [
    "21. Join $MF$, $MF \\| AE$, $\\therefore$ $BG=GM, MF= \\frac{1}{2} AE=2GE$, $\\therefore$ $AE=2MF=4GE= \\frac{4}{3} AG$, $\\therefore$ $AG:MF = 3:2$, since $\\triangle MFH \\sim \\triangle AGH$, $\\therefore$ $GH:HM = AG:MF = 3:2$, \n",
    "<br>$\\therefore$ $BG:GH:HM = 5:3:2$."
   ]
  },
  {
   "cell_type": "markdown",
   "metadata": {},
   "source": [
    "22. Join $PM, QM$, start from proving that $\\triangle PDM \\cong \\triangle QEM$."
   ]
  },
  {
   "cell_type": "markdown",
   "metadata": {},
   "source": [
    "23. Produce $FE$ to meets $CB$ produced in $M$, hence $\\triangle AEF \\cong \\triangle BEM$, $\\therefore$ $BM = AF$. <br>Since $\\triangle AFG \\sim \\triangle CMG, \\frac{CG}{AG} = \\frac{CM}{AF} = \\frac{CM}{BM} = \\frac{4}{1}$, \n",
    "$\\therefore$ $\\frac{AC}{AG} = \\frac{5}{1}$."
   ]
  },
  {
   "cell_type": "markdown",
   "metadata": {},
   "source": [
    "24. Join $BD, \\triangle AEH \\sim \\triangle ABD, EH \\| BD$, and $EH = \\frac{2}{3} BD$, similarly, $\\triangle CGF \\sim \\triangle CDB, GF \\| BD$, and $GF = \\frac{2}{3} BD$, <br>$\\therefore$ $EH \\perp GF$, quadrilateral $EFGH$ is a parallelogram.\n",
    "<br>$\\frac{S_{\\triangle AEH}}{S_{\\triangle ABD}} = (\\frac{2}{3})^{2} = \\frac{4}{9},\\frac{S_{\\triangle CGF}}{S_{\\triangle CDB}} = \\frac{4}{9}.$ <br> $\\therefore S_{\\triangle AEH} + S_{\\triangle CGF} = \\frac{4}{9} S_{\\square ABCD}.$ <br>Similarly, $S_{\\triangle BEF} + S_{\\triangle DHG} = \\frac{1}{9} S_{\\square ABCD}$,\n",
    "<br>$\\therefore$ $S_{\\square EFGH} = (1 - \\frac{4}{9} - \\frac{1}{9})S_{\\square ABCD} = \\frac{4}{9}S_{\\square ABCD}$."
   ]
  },
  {
   "cell_type": "markdown",
   "metadata": {},
   "source": [
    "25. Join $PG, GQ$, join $AP, AG, AQ$ and produce them to meet $BC$ in $M, N, L$, then $\\frac{AP}{PM} = \\frac{AG}{GN} = \\frac{AQ}{QL} = \\frac{2}{1}$, <br>$\\therefore$ $PG \\| BC, GQ \\| BC$, $\\therefore$ $P, G, Q$ are collinear. \n",
    "<br>Since $\\frac{GP}{MN} = \\frac{AG}{AN} = \\frac{2}{3}, \\frac{GQ}{NL} = \\frac{2}{3}$, $\\therefore$ $\\frac{GP}{GQ} =\\frac{MN}{NL}=\\frac{BN-BM}{CN-CL} =\\frac{BC-BD}{BC-CD} = \\frac{CD}{BD}$. "
   ]
  },
  {
   "cell_type": "markdown",
   "metadata": {},
   "source": [
    "26. Join $BE, AC$, prove that $\\triangle ABF \\sim \\triangle ABE$."
   ]
  },
  {
   "cell_type": "markdown",
   "metadata": {},
   "source": [
    "27. Draw an auxiliary circle from $B, D, H, F$, prove that $\\angle HFD = \\angle HBD$ and $\\angle ABE = \\angle HDF$. Draw an auxiliary circle from $A, B, D, E$, prove that $\\angle EBD = \\angle EAD$ and $\\angle ABE = \\angle EDA$, \n",
    "then prove that $\\triangle ADE \\sim \\triangle DFH$."
   ]
  },
  {
   "cell_type": "markdown",
   "metadata": {},
   "source": [
    "28. Join $BI, CI$, prove that $\\triangle BEI \\sim \\triangle CFI$."
   ]
  },
  {
   "cell_type": "markdown",
   "metadata": {},
   "source": [
    "29. Draw the common tangent $PT$, join $PB$, prove that $\\triangle APD \\sim \\triangle CPB$."
   ]
  },
  {
   "cell_type": "markdown",
   "metadata": {},
   "source": [
    "30. Draw the common tangent $AB$ of two the circles, if we prove that the third circle with the segment through two circle's centers as a diameter is tangent to $AB$, \n",
    "then we have proved that the distance from the mid-point of the segment through two centers to $AB$ is a half length of the segment of the two centers."
   ]
  },
  {
   "cell_type": "markdown",
   "metadata": {},
   "source": [
    "31. Join $CA, CB$, prove that $CA, CB$ are the bisectors of the interior and exterior vertex angle of $\\triangle PCD$. Then prove it with the interior and exterior angle bisector theorems of triangles."
   ]
  },
  {
   "cell_type": "markdown",
   "metadata": {},
   "source": [
    "32. From $I$ draw $IO$ perpendiculiar to $GC$ produced, then $\\triangle ICO \\cong \\triangle ABC$. Prove it with Pytheagrean theorem in Rt$\\triangle IGO$."
   ]
  },
  {
   "cell_type": "markdown",
   "metadata": {},
   "source": [
    "33. Proof 1: Draw altitudes $AM, AN$ of triangles $\\triangle ABF, \\triangle ACE$, first prove that $\\triangle ABF \\cong \\triangle ACE$, \n",
    "we have $BF = CE$. Then prove that $AM = AN$ using area formula, prove that $\\triangle AMO \\cong \\triangle ANO$, we have $\\angle AOF = \\angle AOE$.   \n",
    "<br>\n",
    "Proof 2: Prove that $\\triangle ABF \\cong \\triangle ACE$, we have $\\angle AFO = \\angle ACO$ and $\\angle AEO = \\angle ABO$. $\\therefore$ $A,O,C,F$ and $A,O,B,E$ \n",
    "are four points concyclic, respectively, <br>$\\therefore$ $\\angle AOF = \\angle ACF = 60 ^\\circ, \\angle AOE = \\angle ABE = 60 ^\\circ$. "
   ]
  },
  {
   "cell_type": "markdown",
   "metadata": {},
   "source": [
    "34. Join $DM, MF, FN, ND$, prove that quadrilaterial $DMFN$ is a rhombus."
   ]
  },
  {
   "cell_type": "markdown",
   "metadata": {},
   "source": [
    "35. (1) Join $OB$, draw $OM \\perp BC$, so $OM=\\frac{1}{2}AH=\\frac{1}{2}AO=\\frac{1}{2}BO$, <br>$\\therefore$ in $Rt\\triangle OBM, \\angle BOM = 60 ^\\circ$, $\\therefore$ $\\angle BAC = \\angle BOM = 60 ^\\circ$.\n",
    "<br>\n",
    "    (2)Draw $OM \\perp BC$, join $BO$, so $OM = \\frac{1}{2}AH = \\frac{1}{2}BC = BM$; <br>$\\therefore$ in $Rt \\triangle OBM, \\angle BOM = 45 ^\\circ$, $\\therefore$ $\\angle BAC = \\angle BOM = 45 ^\\circ$."
   ]
  },
  {
   "cell_type": "markdown",
   "metadata": {},
   "source": [
    "36. Join $OD, BD, \\angle B = \\frac{1}{2} \\angle AOD, \\angle BDC = \\angle ACD - \\angle B = \\angle AOD - \\angle B = \\frac{1}{2} \\angle AOD$, $\\therefore$ $\\angle B = \\angle BDC$, $\\therefore$ $CB = CD$. "
   ]
  },
  {
   "cell_type": "markdown",
   "metadata": {},
   "source": [
    "37. Join $OB, OC, OM, ON$, $\\because$ $O, A, C, N$ are four points concyclic, $\\therefore$ $\\angle ACO = \\angle ANO$. <br>Since $O, A, M, B$ are four points concyclic, $\\therefore$ $\\angle ABO = \\angle AMO$, and $\\angle ANO = \\angle AMO$, \n",
    "<br>$\\therefore$ $\\triangle OBC$ is an isosceles, $\\therefore$ $AB = AC$. "
   ]
  },
  {
   "cell_type": "markdown",
   "metadata": {},
   "source": [
    "38. Join $ED, AC, DF, BC$, $\\because C, D, B, F$ are four points concyclic, $\\therefore$ $\\angle FCB = \\angle FDB$, $\\therefore$ $C, D, A, E$ are four points concyclic, $\\angle CAD = \\angle CED$, and $\\angle FCB = \\angle CAD$, \n",
    "$\\therefore$ $\\angle FDB = \\angle CED$, <br>since $\\angle FBD = 90 ^\\circ = \\angle ECD$, $\\therefore$ $\\triangle FDB \\sim \\triangle ECD$, $\\therefore$ $\\frac{BD}{CE} = \\frac{BF}{CD} = \\frac{DF}{ED}$. (1) \n",
    "<br>\n",
    "similarly to prove, $\\triangle CDF \\sim \\triangle AED, \\therefore \\frac{CF}{AD} = \\frac{CD}{AE} = \\frac{DF}{DE}$. (2)\n",
    "<br>\n",
    "from (1) and (2) we have $\\frac{BD}{CE} = \\frac{CF}{AD}$, $\\therefore$ $CE \\cdot CF = AD \\cdot BD$, since $\\frac{BF}{CD} = \\frac{CD}{AE}$, $\\therefore$ $CD ^2 = AE \\cdot BF$."
   ]
  },
  {
   "cell_type": "markdown",
   "metadata": {},
   "source": [
    "39. Join $O _{1} O _{2}, O _{1} A, O _{2} B$, draw $O _{1} D \\perp O _{2} B$ in $D$, meet $TC$ in $E$, hence $ET \\| DO _{2}$,  $\\therefore$ $\\frac{TE}{O _{2} D}  = \\frac{O _{1} T}{O _{1} O _{2}}$, \n",
    "That is $\\frac{TC - O _{1} A}{O _{2} B - O _{1} A} = \\frac{O _{1} T}{O _{1} T + O _{2} T}$, $\\frac{TC - \\frac{1}{2}d _{1}}{\\frac{1}{2}d _{2} - \\frac{1}{2}d _{1}} = \\frac{\\frac{1}{2}d _{1}}{\\frac{1}{2}(d _{1} + d _{2})}$,\n",
    "$\\frac{2TC - d _{1}}{d _{2} - d _{1}} = \\frac{d _{1}}{d _{1} + d _{2}} = \\frac{2TC}{2d _{2}} = \\frac{TC}{d _{2}}$, $\\therefore$ $d_{1} d _{2} = TC(d _{1} + d _{2})$, $\\therefore$ $\\frac{1}{TC} = \\frac{1}{d _{1}} + \\frac{1}{d _{2}}$."
   ]
  }
 ],
 "metadata": {
  "kernelspec": {
   "display_name": "Python 3",
   "language": "python",
   "name": "python3"
  },
  "language_info": {
   "codemirror_mode": {
    "name": "ipython",
    "version": 3
   },
   "file_extension": ".py",
   "mimetype": "text/x-python",
   "name": "python",
   "nbconvert_exporter": "python",
   "pygments_lexer": "ipython3",
   "version": "3.8.5"
  }
 },
 "nbformat": 4,
 "nbformat_minor": 4
}
